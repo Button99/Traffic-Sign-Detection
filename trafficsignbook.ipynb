{
 "cells": [
  {
   "cell_type": "markdown",
   "metadata": {
    "papermill": {
     "duration": 0.009354,
     "end_time": "2021-03-19T09:54:26.526073",
     "exception": false,
     "start_time": "2021-03-19T09:54:26.516719",
     "status": "completed"
    },
    "tags": []
   },
   "source": [
    "### Import tools"
   ]
  },
  {
   "cell_type": "code",
   "execution_count": 1,
   "metadata": {
    "_cell_guid": "b1076dfc-b9ad-4769-8c92-a6c4dae69d19",
    "_uuid": "8f2839f25d086af736a60e9eeb907d3b93b6e0e5",
    "execution": {
     "iopub.execute_input": "2021-03-19T09:54:26.547746Z",
     "iopub.status.busy": "2021-03-19T09:54:26.547141Z",
     "iopub.status.idle": "2021-03-19T09:54:32.411259Z",
     "shell.execute_reply": "2021-03-19T09:54:32.410158Z"
    },
    "papermill": {
     "duration": 5.877368,
     "end_time": "2021-03-19T09:54:32.411541",
     "exception": false,
     "start_time": "2021-03-19T09:54:26.534173",
     "status": "completed"
    },
    "tags": []
   },
   "outputs": [],
   "source": [
    "import numpy as np\n",
    "import pandas as pd \n",
    "import matplotlib.pyplot as plt\n",
    "import pickle as pkl\n",
    "import csv\n",
    "\n",
    "from tensorflow.keras.layers import Conv2D, MaxPooling2D, Dropout, Flatten, Dense\n",
    "from tensorflow.keras.models import Sequential\n",
    "from keras.callbacks import EarlyStopping, ModelCheckpoint, ReduceLROnPlateau"
   ]
  },
  {
   "cell_type": "markdown",
   "metadata": {
    "papermill": {
     "duration": 0.007381,
     "end_time": "2021-03-19T09:54:32.426930",
     "exception": false,
     "start_time": "2021-03-19T09:54:32.419549",
     "status": "completed"
    },
    "tags": []
   },
   "source": [
    "### Load the data"
   ]
  },
  {
   "cell_type": "code",
   "execution_count": 2,
   "metadata": {
    "execution": {
     "iopub.execute_input": "2021-03-19T09:54:32.448089Z",
     "iopub.status.busy": "2021-03-19T09:54:32.447346Z",
     "iopub.status.idle": "2021-03-19T09:54:36.103831Z",
     "shell.execute_reply": "2021-03-19T09:54:36.103289Z"
    },
    "papermill": {
     "duration": 3.669499,
     "end_time": "2021-03-19T09:54:36.104097",
     "exception": false,
     "start_time": "2021-03-19T09:54:32.434598",
     "status": "completed"
    },
    "tags": []
   },
   "outputs": [],
   "source": [
    "df_labels= pd.read_csv(\"../input/traffic-signs-preprocessed/label_names.csv\")\n",
    "train_imgs= pkl.load(open(\"../input/traffic-signs-preprocessed/train.pickle\", \"rb\"))\n",
    "test_imgs= pkl.load(open(\"../input/traffic-signs-preprocessed/test.pickle\", \"rb\"))\n",
    "valid_imgs= pkl.load(open(\"../input/traffic-signs-preprocessed/valid.pickle\", \"rb\"))\n",
    "\n",
    "labels= pkl.load(open(\"../input/traffic-signs-preprocessed/labels.pickle\", \"rb\"))"
   ]
  },
  {
   "cell_type": "code",
   "execution_count": 3,
   "metadata": {
    "execution": {
     "iopub.execute_input": "2021-03-19T09:54:36.126048Z",
     "iopub.status.busy": "2021-03-19T09:54:36.125410Z",
     "iopub.status.idle": "2021-03-19T09:54:36.128187Z",
     "shell.execute_reply": "2021-03-19T09:54:36.128641Z"
    },
    "papermill": {
     "duration": 0.0166,
     "end_time": "2021-03-19T09:54:36.128805",
     "exception": false,
     "start_time": "2021-03-19T09:54:36.112205",
     "status": "completed"
    },
    "tags": []
   },
   "outputs": [
    {
     "name": "stdout",
     "output_type": "stream",
     "text": [
      "{1: 'Speed limit (20km/h)', 2: 'Speed limit (30km/h)', 3: 'Speed limit (50km/h)', 4: 'Speed limit (60km/h)', 5: 'Speed limit (70km/h)', 6: 'Speed limit (80km/h)', 7: 'End of speed limit (80km/h)', 8: 'Speed limit (100km/h)', 9: 'Speed limit (120km/h)', 10: 'No passing', 11: 'No passing for vehicles over 3.5 metric tons', 12: 'Right-of-way at the next intersection', 13: 'Priority road', 14: 'Yield', 15: 'Stop', 16: 'No vehicles', 17: 'Vehicles over 3.5 metric tons prohibited', 18: 'No entry', 19: 'General caution', 20: 'Dangerous curve to the left', 21: 'Dangerous curve to the right', 22: 'Double curve', 23: 'Bumpy road', 24: 'Slippery road', 25: 'Road narrows on the right', 26: 'Road work', 27: 'Traffic signals', 28: 'Pedestrians', 29: 'Children crossing', 30: 'Bicycles crossing', 31: 'Beware of ice/snow', 32: 'Wild animals crossing', 33: 'End of all speed and passing limits', 34: 'Turn right ahead', 35: 'Turn left ahead', 36: 'Ahead only', 37: 'Go straight or right', 38: 'Go straight or left', 39: 'Keep right', 40: 'Keep left', 41: 'Roundabout mandatory', 42: 'End of no passing', 43: 'End of no passing by vehicles over 3.5 metric tons'}\n"
     ]
    }
   ],
   "source": [
    "# Printing the labels\n",
    "dict={}\n",
    "reader= csv.reader(labels)\n",
    "\n",
    "i=0\n",
    "\n",
    "for row in reader:\n",
    "    i+=1\n",
    "    dict[i]= row[0]\n",
    "\n",
    "print(dict)"
   ]
  },
  {
   "cell_type": "markdown",
   "metadata": {
    "papermill": {
     "duration": 0.008129,
     "end_time": "2021-03-19T09:54:36.145491",
     "exception": false,
     "start_time": "2021-03-19T09:54:36.137362",
     "status": "completed"
    },
    "tags": []
   },
   "source": [
    "### Split the images"
   ]
  },
  {
   "cell_type": "code",
   "execution_count": 4,
   "metadata": {
    "execution": {
     "iopub.execute_input": "2021-03-19T09:54:36.167259Z",
     "iopub.status.busy": "2021-03-19T09:54:36.166562Z",
     "iopub.status.idle": "2021-03-19T09:54:36.169813Z",
     "shell.execute_reply": "2021-03-19T09:54:36.169344Z"
    },
    "papermill": {
     "duration": 0.015969,
     "end_time": "2021-03-19T09:54:36.169943",
     "exception": false,
     "start_time": "2021-03-19T09:54:36.153974",
     "status": "completed"
    },
    "tags": []
   },
   "outputs": [],
   "source": [
    "X_train= train_imgs[\"features\"]\n",
    "y_train= train_imgs[\"labels\"]\n",
    "\n",
    "X_val= valid_imgs[\"features\"]\n",
    "y_val= valid_imgs[\"labels\"]\n",
    "\n",
    "X_test= test_imgs[\"features\"]\n",
    "y_test= test_imgs[\"labels\"]"
   ]
  },
  {
   "cell_type": "code",
   "execution_count": 5,
   "metadata": {
    "execution": {
     "iopub.execute_input": "2021-03-19T09:54:36.192098Z",
     "iopub.status.busy": "2021-03-19T09:54:36.191422Z",
     "iopub.status.idle": "2021-03-19T09:54:36.195487Z",
     "shell.execute_reply": "2021-03-19T09:54:36.196203Z"
    },
    "papermill": {
     "duration": 0.018069,
     "end_time": "2021-03-19T09:54:36.196425",
     "exception": false,
     "start_time": "2021-03-19T09:54:36.178356",
     "status": "completed"
    },
    "tags": []
   },
   "outputs": [
    {
     "name": "stdout",
     "output_type": "stream",
     "text": [
      "X:  (34799, 32, 32, 3)\n",
      "y:  (34799,)\n",
      "X:  (4410, 32, 32, 3)\n",
      "y:  (4410,)\n",
      "X:  (12630, 32, 32, 3)\n",
      "y:  (12630,)\n"
     ]
    }
   ],
   "source": [
    "def shapes(X, y):\n",
    "\n",
    "    print(\"X: \", X.shape)\n",
    "    print(\"y: \", y.shape)\n",
    "    \n",
    "\n",
    "shapes(X_train, y_train)\n",
    "shapes(X_val, y_val)\n",
    "shapes(X_test, y_test)"
   ]
  },
  {
   "cell_type": "markdown",
   "metadata": {
    "papermill": {
     "duration": 0.008199,
     "end_time": "2021-03-19T09:54:36.214101",
     "exception": false,
     "start_time": "2021-03-19T09:54:36.205902",
     "status": "completed"
    },
    "tags": []
   },
   "source": [
    "### Visualize the data"
   ]
  },
  {
   "cell_type": "code",
   "execution_count": 6,
   "metadata": {
    "execution": {
     "iopub.execute_input": "2021-03-19T09:54:36.275161Z",
     "iopub.status.busy": "2021-03-19T09:54:36.263841Z",
     "iopub.status.idle": "2021-03-19T09:54:36.490441Z",
     "shell.execute_reply": "2021-03-19T09:54:36.490872Z"
    },
    "papermill": {
     "duration": 0.268474,
     "end_time": "2021-03-19T09:54:36.491122",
     "exception": false,
     "start_time": "2021-03-19T09:54:36.222648",
     "status": "completed"
    },
    "tags": []
   },
   "outputs": [
    {
     "data": {
      "text/plain": [
       "<matplotlib.image.AxesImage at 0x7f9f14e09c50>"
      ]
     },
     "execution_count": 6,
     "metadata": {},
     "output_type": "execute_result"
    },
    {
     "data": {
      "image/png": "[encoded data removed]",
      "text/plain": [
       "<Figure size 432x288 with 3 Axes>"
      ]
     },
     "metadata": {
      "needs_background": "light"
     },
     "output_type": "display_data"
    }
   ],
   "source": [
    "fig, ax= plt.subplots(3)\n",
    "\n",
    "ax[0].imshow(X_train[0])\n",
    "ax[1].imshow(X_val[10])\n",
    "ax[2].imshow(X_test[3])"
   ]
  },
  {
   "cell_type": "markdown",
   "metadata": {
    "papermill": {
     "duration": 0.009651,
     "end_time": "2021-03-19T09:54:36.510985",
     "exception": false,
     "start_time": "2021-03-19T09:54:36.501334",
     "status": "completed"
    },
    "tags": []
   },
   "source": [
    "### Model Evaluation"
   ]
  },
  {
   "cell_type": "code",
   "execution_count": 7,
   "metadata": {
    "execution": {
     "iopub.execute_input": "2021-03-19T09:54:36.538016Z",
     "iopub.status.busy": "2021-03-19T09:54:36.537333Z",
     "iopub.status.idle": "2021-03-19T09:54:36.691698Z",
     "shell.execute_reply": "2021-03-19T09:54:36.691064Z"
    },
    "papermill": {
     "duration": 0.170975,
     "end_time": "2021-03-19T09:54:36.691843",
     "exception": false,
     "start_time": "2021-03-19T09:54:36.520868",
     "status": "completed"
    },
    "tags": []
   },
   "outputs": [],
   "source": [
    "model= Sequential([\n",
    "    \n",
    "    Conv2D(32, kernel_size=(3, 3), input_shape=(32, 32, 3),\n",
    "           activation= \"relu\"),\n",
    "\n",
    "    MaxPooling2D(2, 2),\n",
    "    \n",
    "    Dropout(0.2),\n",
    "    \n",
    "    Conv2D(64, kernel_size=(3, 3),\n",
    "           activation=\"relu\"),\n",
    "    \n",
    "    MaxPooling2D(2, 2),\n",
    "    \n",
    "    Dropout(0.2),\n",
    "    \n",
    "    Flatten(),\n",
    "    \n",
    "    Dense(256, activation=\"relu\"),\n",
    "    \n",
    "    Dropout(0.2),\n",
    "    \n",
    "    Dense(128, activation=\"relu\"),\n",
    "    \n",
    "    Dropout(0.2),\n",
    "    \n",
    "    Dense(64, activation=\"softmax\")\n",
    "])\n",
    "\n",
    "model.compile(optimizer=\"adam\", loss=\"sparse_categorical_crossentropy\", \n",
    "              metrics=[\"accuracy\"])"
   ]
  },
  {
   "cell_type": "code",
   "execution_count": 8,
   "metadata": {
    "execution": {
     "iopub.execute_input": "2021-03-19T09:54:36.720926Z",
     "iopub.status.busy": "2021-03-19T09:54:36.720200Z",
     "iopub.status.idle": "2021-03-19T09:54:36.724312Z",
     "shell.execute_reply": "2021-03-19T09:54:36.723809Z"
    },
    "papermill": {
     "duration": 0.021306,
     "end_time": "2021-03-19T09:54:36.724454",
     "exception": false,
     "start_time": "2021-03-19T09:54:36.703148",
     "status": "completed"
    },
    "tags": []
   },
   "outputs": [
    {
     "name": "stdout",
     "output_type": "stream",
     "text": [
      "Model: \"sequential\"\n",
      "_________________________________________________________________\n",
      "Layer (type)                 Output Shape              Param #   \n",
      "=================================================================\n",
      "conv2d (Conv2D)              (None, 30, 30, 32)        896       \n",
      "_________________________________________________________________\n",
      "max_pooling2d (MaxPooling2D) (None, 15, 15, 32)        0         \n",
      "_________________________________________________________________\n",
      "dropout (Dropout)            (None, 15, 15, 32)        0         \n",
      "_________________________________________________________________\n",
      "conv2d_1 (Conv2D)            (None, 13, 13, 64)        18496     \n",
      "_________________________________________________________________\n",
      "max_pooling2d_1 (MaxPooling2 (None, 6, 6, 64)          0         \n",
      "_________________________________________________________________\n",
      "dropout_1 (Dropout)          (None, 6, 6, 64)          0         \n",
      "_________________________________________________________________\n",
      "flatten (Flatten)            (None, 2304)              0         \n",
      "_________________________________________________________________\n",
      "dense (Dense)                (None, 256)               590080    \n",
      "_________________________________________________________________\n",
      "dropout_2 (Dropout)          (None, 256)               0         \n",
      "_________________________________________________________________\n",
      "dense_1 (Dense)              (None, 128)               32896     \n",
      "_________________________________________________________________\n",
      "dropout_3 (Dropout)          (None, 128)               0         \n",
      "_________________________________________________________________\n",
      "dense_2 (Dense)              (None, 64)                8256      \n",
      "=================================================================\n",
      "Total params: 650,624\n",
      "Trainable params: 650,624\n",
      "Non-trainable params: 0\n",
      "_________________________________________________________________\n"
     ]
    }
   ],
   "source": [
    "model.summary()"
   ]
  },
  {
   "cell_type": "code",
   "execution_count": 9,
   "metadata": {
    "execution": {
     "iopub.execute_input": "2021-03-19T09:54:36.751803Z",
     "iopub.status.busy": "2021-03-19T09:54:36.751173Z",
     "iopub.status.idle": "2021-03-19T09:54:36.753835Z",
     "shell.execute_reply": "2021-03-19T09:54:36.754259Z"
    },
    "papermill": {
     "duration": 0.019287,
     "end_time": "2021-03-19T09:54:36.754440",
     "exception": false,
     "start_time": "2021-03-19T09:54:36.735153",
     "status": "completed"
    },
    "tags": []
   },
   "outputs": [],
   "source": [
    "reduceLr= ReduceLROnPlateau(monitor= \"val_loss\", \n",
    "                            factor= 0.3, mode= min, \n",
    "                            verbose=1, min_lr= 1e-5)\n",
    "\n",
    "checkpoint= ModelCheckpoint(\"trafficModel.h5\", save_best_only= True,\n",
    "                            monitor= \"val_loss\", mode=\"min\")\n",
    "\n",
    "earlyStopping= EarlyStopping(monitor= \"val_loss\", restore_best_weights= True,\n",
    "                             patience= 5, mode= \"min\")\n"
   ]
  },
  {
   "cell_type": "code",
   "execution_count": 10,
   "metadata": {
    "execution": {
     "iopub.execute_input": "2021-03-19T09:54:36.781155Z",
     "iopub.status.busy": "2021-03-19T09:54:36.780448Z",
     "iopub.status.idle": "2021-03-19T10:02:50.437849Z",
     "shell.execute_reply": "2021-03-19T10:02:50.438362Z"
    },
    "papermill": {
     "duration": 493.673142,
     "end_time": "2021-03-19T10:02:50.438553",
     "exception": false,
     "start_time": "2021-03-19T09:54:36.765411",
     "status": "completed"
    },
    "tags": []
   },
   "outputs": [
    {
     "name": "stdout",
     "output_type": "stream",
     "text": [
      "Epoch 1/20\n",
      "1088/1088 [==============================] - 30s 27ms/step - loss: 4.2680 - accuracy: 0.2899 - val_loss: 0.5961 - val_accuracy: 0.8346\n",
      "Epoch 2/20\n",
      "1088/1088 [==============================] - 29s 27ms/step - loss: 0.6213 - accuracy: 0.8190 - val_loss: 0.3574 - val_accuracy: 0.9089\n",
      "Epoch 3/20\n",
      "1088/1088 [==============================] - 29s 27ms/step - loss: 0.3418 - accuracy: 0.9034 - val_loss: 0.3466 - val_accuracy: 0.9135\n",
      "Epoch 4/20\n",
      "1088/1088 [==============================] - 29s 26ms/step - loss: 0.2653 - accuracy: 0.9246 - val_loss: 0.3101 - val_accuracy: 0.9245\n",
      "Epoch 5/20\n",
      "1088/1088 [==============================] - 29s 26ms/step - loss: 0.2363 - accuracy: 0.9349 - val_loss: 0.3080 - val_accuracy: 0.9336\n",
      "Epoch 6/20\n",
      "1088/1088 [==============================] - 29s 27ms/step - loss: 0.2073 - accuracy: 0.9439 - val_loss: 0.3695 - val_accuracy: 0.9154\n",
      "Epoch 7/20\n",
      "1088/1088 [==============================] - 29s 27ms/step - loss: 0.2246 - accuracy: 0.9420 - val_loss: 0.3578 - val_accuracy: 0.9401\n",
      "Epoch 8/20\n",
      "1088/1088 [==============================] - 29s 27ms/step - loss: 0.2000 - accuracy: 0.9504 - val_loss: 0.3435 - val_accuracy: 0.9401\n",
      "Epoch 9/20\n",
      "1088/1088 [==============================] - 29s 26ms/step - loss: 0.1880 - accuracy: 0.9544 - val_loss: 0.3227 - val_accuracy: 0.9378\n",
      "Epoch 10/20\n",
      "1088/1088 [==============================] - 29s 26ms/step - loss: 0.2244 - accuracy: 0.9469 - val_loss: 0.3067 - val_accuracy: 0.9404\n",
      "Epoch 11/20\n",
      "1088/1088 [==============================] - 29s 27ms/step - loss: 0.1616 - accuracy: 0.9597 - val_loss: 0.2942 - val_accuracy: 0.9374\n",
      "Epoch 12/20\n",
      "1088/1088 [==============================] - 29s 27ms/step - loss: 0.1540 - accuracy: 0.9631 - val_loss: 0.2742 - val_accuracy: 0.9474\n",
      "Epoch 13/20\n",
      "1088/1088 [==============================] - 29s 26ms/step - loss: 0.1716 - accuracy: 0.9598 - val_loss: 0.3394 - val_accuracy: 0.9337\n",
      "Epoch 14/20\n",
      "1088/1088 [==============================] - 29s 26ms/step - loss: 0.1766 - accuracy: 0.9599 - val_loss: 0.3986 - val_accuracy: 0.9371\n",
      "Epoch 15/20\n",
      "1088/1088 [==============================] - 29s 27ms/step - loss: 0.1312 - accuracy: 0.9685 - val_loss: 0.4090 - val_accuracy: 0.9326\n",
      "Epoch 16/20\n",
      "1088/1088 [==============================] - 29s 27ms/step - loss: 0.1887 - accuracy: 0.9589 - val_loss: 0.3846 - val_accuracy: 0.9390\n",
      "Epoch 17/20\n",
      "1088/1088 [==============================] - 29s 27ms/step - loss: 0.1599 - accuracy: 0.9637 - val_loss: 0.3934 - val_accuracy: 0.9420\n"
     ]
    }
   ],
   "source": [
    "hist= model.fit(X_train, y_train, epochs=20,\n",
    "                validation_data=(X_test, y_test), batch_size=32,\n",
    "                callbacks=[earlyStopping, checkpoint, reduceLr])\n"
   ]
  },
  {
   "cell_type": "markdown",
   "metadata": {
    "papermill": {
     "duration": 1.587282,
     "end_time": "2021-03-19T10:02:53.563882",
     "exception": false,
     "start_time": "2021-03-19T10:02:51.976600",
     "status": "completed"
    },
    "tags": []
   },
   "source": [
    "### Plot the `accuracy` of the model"
   ]
  },
  {
   "cell_type": "code",
   "execution_count": 11,
   "metadata": {
    "execution": {
     "iopub.execute_input": "2021-03-19T10:02:56.664005Z",
     "iopub.status.busy": "2021-03-19T10:02:56.663350Z",
     "iopub.status.idle": "2021-03-19T10:02:56.822382Z",
     "shell.execute_reply": "2021-03-19T10:02:56.821862Z"
    },
    "papermill": {
     "duration": 1.719073,
     "end_time": "2021-03-19T10:02:56.822526",
     "exception": false,
     "start_time": "2021-03-19T10:02:55.103453",
     "status": "completed"
    },
    "tags": []
   },
   "outputs": [
    {
     "data": {
      "text/plain": [
       "<matplotlib.legend.Legend at 0x7f9f08197cd0>"
      ]
     },
     "execution_count": 11,
     "metadata": {},
     "output_type": "execute_result"
    },
    {
     "data": {
      "image/png": "[encoded data removed]",
      "text/plain": [
       "<Figure size 432x288 with 1 Axes>"
      ]
     },
     "metadata": {
      "needs_background": "light"
     },
     "output_type": "display_data"
    }
   ],
   "source": [
    "plt.plot(hist.history[\"accuracy\"], label=\"train\")\n",
    "plt.plot(hist.history[\"val_accuracy\"], label= \"validation\")\n",
    "plt.xlabel(\"Acc\")\n",
    "plt.ylabel(\"epochs\")\n",
    "\n",
    "plt.legend([\"train\", \"test\"])"
   ]
  }
 ],
 "metadata": {
  "kernelspec": {
   "display_name": "Python 3",
   "language": "python",
   "name": "python3"
  },
  "language_info": {
   "codemirror_mode": {
    "name": "ipython",
    "version": 3
   },
   "file_extension": ".py",
   "mimetype": "text/x-python",
   "name": "python",
   "nbconvert_exporter": "python",
   "pygments_lexer": "ipython3",
   "version": "3.7.9"
  },
  "papermill": {
   "default_parameters": {},
   "duration": 518.110662,
   "end_time": "2021-03-19T10:02:59.405878",
   "environment_variables": {},
   "exception": null,
   "input_path": "__notebook__.ipynb",
   "output_path": "__notebook__.ipynb",
   "parameters": {},
   "start_time": "2021-03-19T09:54:21.295216",
   "version": "2.2.2"
  }
 },
 "nbformat": 4,
 "nbformat_minor": 4
}
